{
 "cells": [
  {
   "cell_type": "markdown",
   "id": "3976ef92-9332-44b7-a15e-825dd221b3bb",
   "metadata": {},
   "source": [
    "# Q1."
   ]
  },
  {
   "cell_type": "code",
   "execution_count": 1,
   "id": "feddf2ea-b4b9-4d2f-9972-697da2bccd36",
   "metadata": {},
   "outputs": [
    {
     "name": "stdout",
     "output_type": "stream",
     "text": [
      "Vehicle: Car, Max Speed: 200, Average Speed: 25\n"
     ]
    }
   ],
   "source": [
    "class Vehicle:\n",
    "    def __init__(self, name_of_vehicle, max_speed, average_of_vehicle):\n",
    "        self.name_of_vehicle = name_of_vehicle\n",
    "        self.max_speed = max_speed\n",
    "        self.average_of_vehicle = average_of_vehicle\n",
    "\n",
    "car = Vehicle(\"Car\", 200, 25)\n",
    "print(f\"Vehicle: {car.name_of_vehicle}, Max Speed: {car.max_speed}, Average Speed: {car.average_of_vehicle}\")"
   ]
  },
  {
   "cell_type": "markdown",
   "id": "14e3825b-d02e-4756-91f0-76b93a8f8d22",
   "metadata": {},
   "source": [
    "# Q2."
   ]
  },
  {
   "cell_type": "code",
   "execution_count": 2,
   "id": "d2821293-614d-47ea-b63b-9e784b8a6db8",
   "metadata": {},
   "outputs": [
    {
     "name": "stdout",
     "output_type": "stream",
     "text": [
      "Sedan has a seating capacity of 5.\n"
     ]
    }
   ],
   "source": [
    "class Car(Vehicle):\n",
    "    def seating_capacity(self, capacity):\n",
    "        return f\"{self.name_of_vehicle} has a seating capacity of {capacity}.\"\n",
    "\n",
    "car_instance = Car(\"Sedan\", 180, 20)\n",
    "print(car_instance.seating_capacity(5))"
   ]
  },
  {
   "cell_type": "markdown",
   "id": "e5069cb0-7348-4e5d-9f79-b6ab8cb0e4d0",
   "metadata": {},
   "source": [
    "# Q3."
   ]
  },
  {
   "cell_type": "markdown",
   "id": "3706aa15-2385-4fa3-a157-feb980fcf0b1",
   "metadata": {},
   "source": [
    "- Multiple inheritance is a feature in object-oriented programming where a class can inherit attributes and methods from more than one parent class."
   ]
  },
  {
   "cell_type": "code",
   "execution_count": 3,
   "id": "bee52d19-adb1-481f-8596-39369a331ecd",
   "metadata": {},
   "outputs": [
    {
     "name": "stdout",
     "output_type": "stream",
     "text": [
      "Class A\n",
      "Class B\n",
      "Class C\n"
     ]
    }
   ],
   "source": [
    "class A:\n",
    "    def display_A(self):\n",
    "        print(\"Class A\")\n",
    "\n",
    "class B:\n",
    "    def display_B(self):\n",
    "        print(\"Class B\")\n",
    "\n",
    "class C(A, B):  \n",
    "    def display_C(self):\n",
    "        print(\"Class C\")\n",
    "        \n",
    "obj = C()\n",
    "obj.display_A()\n",
    "obj.display_B()\n",
    "obj.display_C()"
   ]
  },
  {
   "cell_type": "markdown",
   "id": "e7fbc08d-a112-473a-a9d3-273e7a422676",
   "metadata": {},
   "source": [
    "# Q4."
   ]
  },
  {
   "cell_type": "markdown",
   "id": "eda386fb-70c0-411d-ab68-00b61a824bc1",
   "metadata": {},
   "source": [
    "Getter and setter methods are used to get and set the values of private attributes in a class."
   ]
  },
  {
   "cell_type": "code",
   "execution_count": 4,
   "id": "5376bc85-3c86-491d-9853-f3ffa2ae67be",
   "metadata": {},
   "outputs": [
    {
     "name": "stdout",
     "output_type": "stream",
     "text": [
      "0\n",
      "5\n"
     ]
    }
   ],
   "source": [
    "class Example:\n",
    "    def __init__(self):\n",
    "        self._x = 0  \n",
    "\n",
    "    def get_x(self):\n",
    "        return self._x\n",
    "\n",
    "    def set_x(self, value):\n",
    "        if value < 0:\n",
    "            print(\"Value cannot be negative.\")\n",
    "        else:\n",
    "            self._x = value\n",
    "\n",
    "obj = Example()\n",
    "print(obj.get_x())  \n",
    "obj.set_x(5)        \n",
    "print(obj.get_x())"
   ]
  },
  {
   "cell_type": "markdown",
   "id": "8917ada1-f61e-4c10-aaf9-0bcdc7359c98",
   "metadata": {},
   "source": [
    "# Q5."
   ]
  },
  {
   "cell_type": "markdown",
   "id": "8ef3e081-bc62-41d2-a199-74673d42178d",
   "metadata": {},
   "source": [
    "- Method overriding occurs when a subclass provides a specific implementation for a method that is already defined in its superclass."
   ]
  },
  {
   "cell_type": "code",
   "execution_count": 5,
   "id": "6b14967c-8c49-4be5-91dc-cdfb257227e6",
   "metadata": {},
   "outputs": [
    {
     "name": "stdout",
     "output_type": "stream",
     "text": [
      "Generic animal sound\n",
      "Bark\n"
     ]
    }
   ],
   "source": [
    "class Animal:\n",
    "    def make_sound(self):\n",
    "        print(\"Generic animal sound\")\n",
    "\n",
    "class Dog(Animal):\n",
    "    def make_sound(self):\n",
    "        print(\"Bark\")\n",
    "\n",
    "animal = Animal()\n",
    "animal.make_sound()  \n",
    "\n",
    "dog = Dog()\n",
    "dog.make_sound()"
   ]
  }
 ],
 "metadata": {
  "kernelspec": {
   "display_name": "Python 3 (ipykernel)",
   "language": "python",
   "name": "python3"
  },
  "language_info": {
   "codemirror_mode": {
    "name": "ipython",
    "version": 3
   },
   "file_extension": ".py",
   "mimetype": "text/x-python",
   "name": "python",
   "nbconvert_exporter": "python",
   "pygments_lexer": "ipython3",
   "version": "3.10.8"
  }
 },
 "nbformat": 4,
 "nbformat_minor": 5
}
